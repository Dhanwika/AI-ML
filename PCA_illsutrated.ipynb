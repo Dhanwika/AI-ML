{
  "cells": [
    {
      "cell_type": "code",
      "execution_count": 2,
      "id": "e39c342f",
      "metadata": {
        "colab": {
          "base_uri": "https://localhost:8080/"
        },
        "id": "e39c342f",
        "outputId": "16072463-c856-420c-c901-23de19ff1cf8"
      },
      "outputs": [
        {
          "output_type": "stream",
          "name": "stdout",
          "text": [
            "Formatted Array:\n",
            "[[0.7804 0.03   0.6358]\n",
            " [0.8211 0.1455 0.8096]\n",
            " [0.5789 0.4926 0.5715]\n",
            " [0.1225 0.0915 0.0942]\n",
            " [0.779  0.0873 0.3351]\n",
            " [0.624  0.5961 0.8559]\n",
            " [0.4224 0.9964 0.2802]\n",
            " [0.8073 0.9814 0.3039]\n",
            " [0.9191 0.3997 0.245 ]\n",
            " [0.943  0.7645 0.0626]\n",
            " [0.0505 0.1961 0.8309]\n",
            " [0.5146 0.6795 0.7561]\n",
            " [0.3187 0.4453 0.3157]\n",
            " [0.9282 0.6241 0.2528]\n",
            " [0.4522 0.6039 0.0544]\n",
            " [0.7352 0.2223 0.4486]\n",
            " [0.5283 0.3583 0.1925]\n",
            " [0.5129 0.4127 0.8308]\n",
            " [0.96   0.9745 0.6244]\n",
            " [0.4942 0.6612 0.1331]\n",
            " [0.4813 0.2862 0.8408]\n",
            " [0.2582 0.1517 0.2836]\n",
            " [0.5441 0.711  0.8303]\n",
            " [0.9492 0.3633 0.0133]\n",
            " [0.6682 0.4951 0.8029]\n",
            " [0.8603 0.8317 0.8363]\n",
            " [0.4476 0.805  0.4447]\n",
            " [0.6405 0.4267 0.6902]\n",
            " [0.8326 0.716  0.7112]\n",
            " [0.4012 0.3606 0.9096]\n",
            " [0.0732 0.4903 0.9581]\n",
            " [0.2339 0.0609 0.0242]\n",
            " [0.3208 0.3442 0.1405]\n",
            " [0.6031 0.3166 0.2018]\n",
            " [0.0654 0.9217 0.4895]\n",
            " [0.4733 0.2801 0.7352]\n",
            " [0.7342 0.5413 0.4651]\n",
            " [0.5998 0.0634 0.005 ]\n",
            " [0.0038 0.6519 0.4886]\n",
            " [0.8551 0.5779 0.8231]\n",
            " [0.348  0.8723 0.169 ]\n",
            " [0.7659 0.39   0.645 ]\n",
            " [0.503  0.8624 0.1069]\n",
            " [0.2473 0.6926 0.8764]\n",
            " [0.6603 0.5181 0.2702]\n",
            " [0.1374 0.6515 0.5701]\n",
            " [0.429  0.0317 0.4467]\n",
            " [0.5683 0.8599 0.518 ]\n",
            " [0.9359 0.9612 0.8503]\n",
            " [0.9435 0.0707 0.2511]\n",
            " [0.2766 0.7648 0.6791]\n",
            " [0.3385 0.0936 0.6223]\n",
            " [0.4419 0.5416 0.0125]\n",
            " [0.3162 0.552  0.2558]\n",
            " [0.1451 0.9641 0.4733]\n",
            " [0.9294 0.6587 0.6209]\n",
            " [0.6004 0.1489 0.3282]\n",
            " [0.5063 0.6974 0.4101]\n",
            " [0.4986 0.7848 0.8115]\n",
            " [0.8061 0.4452 0.4715]\n",
            " [0.3507 0.5248 0.6025]\n",
            " [0.5755 0.0822 0.605 ]\n",
            " [0.8271 0.287  0.5082]\n",
            " [0.6843 0.2339 0.7863]\n",
            " [0.9228 0.6627 0.9633]\n",
            " [0.5509 0.1483 0.3126]\n",
            " [0.184  0.9081 0.2703]\n",
            " [0.5064 0.2443 0.3326]\n",
            " [0.9544 0.2023 0.8814]\n",
            " [0.5904 0.4174 0.6496]\n",
            " [0.117  0.0781 0.2993]\n",
            " [0.3658 0.018  0.4283]\n",
            " [0.4181 0.4009 0.3889]\n",
            " [0.1697 0.1524 0.7433]\n",
            " [0.5739 0.1169 0.5783]\n",
            " [0.7692 0.0962 0.4114]\n",
            " [0.4573 0.6865 0.0885]\n",
            " [0.0779 0.3889 0.8944]\n",
            " [0.9448 0.5178 0.1334]\n",
            " [0.5527 0.2031 0.9091]\n",
            " [0.3076 0.2645 0.2731]\n",
            " [0.7472 0.9206 0.4823]\n",
            " [0.1308 0.5086 0.5181]\n",
            " [0.8587 0.0581 0.8111]\n",
            " [0.5075 0.3188 0.0752]\n",
            " [0.9816 0.6205 0.8107]\n",
            " [0.6336 0.3019 0.6903]\n",
            " [0.6707 0.1473 0.4876]\n",
            " [0.8079 0.7063 0.0882]\n",
            " [0.2668 0.0061 0.739 ]\n",
            " [0.8505 0.7551 0.1125]\n",
            " [0.801  0.3168 0.6378]\n",
            " [0.9798 0.8184 0.348 ]\n",
            " [0.6431 0.1955 0.3193]\n",
            " [0.539  0.4931 0.5046]\n",
            " [0.2088 0.4607 0.5027]\n",
            " [0.9089 0.1873 0.6071]\n",
            " [0.6882 0.3864 0.575 ]\n",
            " [0.8949 0.6443 0.0957]\n",
            " [0.83   0.1709 0.1106]]\n"
          ]
        }
      ],
      "source": [
        "import numpy as np\n",
        "import matplotlib.pyplot as plt\n",
        "\n",
        "# Step 1: Create some sample data (replace this with your dataset)\n",
        "data = np.random.rand(100, 3)  # 100 samples with 3 features\n",
        "np.set_printoptions(precision=4, suppress=True)\n",
        "print(\"Formatted Array:\")\n",
        "print(data)"
      ]
    },
    {
      "cell_type": "code",
      "execution_count": 3,
      "id": "43176e07",
      "metadata": {
        "colab": {
          "base_uri": "https://localhost:8080/"
        },
        "id": "43176e07",
        "outputId": "d0c30618-3852-4ca3-efe1-12f6579b0e46"
      },
      "outputs": [
        {
          "output_type": "stream",
          "name": "stdout",
          "text": [
            "[0.5659 0.4537 0.4829] [0.2662 0.2789 0.2716]\n",
            "[[ 0.8057 -1.5191  0.5628]\n",
            " [ 0.9586 -1.1051  1.2029]\n",
            " [ 0.049   0.1396  0.3261]\n",
            " [-1.6651 -1.2986 -1.4311]\n",
            " [ 0.8006 -1.3136 -0.5443]\n",
            " [ 0.2186  0.5107  1.3732]\n",
            " [-0.5387  1.9457 -0.7466]\n",
            " [ 0.907   1.8919 -0.6591]\n",
            " [ 1.327  -0.1937 -0.8758]\n",
            " [ 1.4164  1.1144 -1.5477]\n",
            " [-1.9355 -0.9237  1.2814]\n",
            " [-0.1925  0.8097  1.0057]\n",
            " [-0.9282 -0.03   -0.6156]\n",
            " [ 1.3608  0.6109 -0.8474]\n",
            " [-0.4269  0.5386 -1.5777]\n",
            " [ 0.636  -0.8298 -0.1262]\n",
            " [-0.1412 -0.3422 -1.0692]\n",
            " [-0.1988 -0.1469  1.2811]\n",
            " [ 1.4806  1.8671  0.5208]\n",
            " [-0.2691  0.7438 -1.288 ]\n",
            " [-0.3177 -0.6005  1.3177]\n",
            " [-1.1556 -1.0827 -0.7337]\n",
            " [-0.0819  0.9223  1.2789]\n",
            " [ 1.4397 -0.3242 -1.729 ]\n",
            " [ 0.3843  0.1483  1.1781]\n",
            " [ 1.1059  1.3553  1.3012]\n",
            " [-0.4441  1.2594 -0.1407]\n",
            " [ 0.2804 -0.0967  0.7631]\n",
            " [ 1.0018  0.9403  0.8406]\n",
            " [-0.6185 -0.334   1.5711]\n",
            " [-1.8502  0.1312  1.7496]\n",
            " [-1.2468 -1.4084 -1.689 ]\n",
            " [-0.9205 -0.3926 -1.2606]\n",
            " [ 0.14   -0.4915 -1.035 ]\n",
            " [-1.8798  1.678   0.0243]\n",
            " [-0.3474 -0.6225  0.9291]\n",
            " [ 0.6324  0.3139 -0.0657]\n",
            " [ 0.1275 -1.3994 -1.7597]\n",
            " [-2.1111  0.7105  0.021 ]\n",
            " [ 1.0865  0.4451  1.2525]\n",
            " [-0.8183  1.5007 -1.1559]\n",
            " [ 0.7514 -0.2284  0.5968]\n",
            " [-0.2362  1.4651 -1.3845]\n",
            " [-1.1966  0.8565  1.4488]\n",
            " [ 0.3546  0.2308 -0.7831]\n",
            " [-1.6091  0.709   0.3211]\n",
            " [-0.5142 -1.5132 -0.1335]\n",
            " [ 0.0093  1.4563  0.1291]\n",
            " [ 1.3901  1.8194  1.3529]\n",
            " [ 1.4183 -1.3734 -0.8536]\n",
            " [-1.0865  1.1153  0.7225]\n",
            " [-0.8539 -1.291   0.5132]\n",
            " [-0.4657  0.3152 -1.7322]\n",
            " [-0.9376  0.3524 -0.8361]\n",
            " [-1.5804  1.83   -0.0355]\n",
            " [ 1.3654  0.7349  0.508 ]\n",
            " [ 0.1297 -1.0928 -0.5698]\n",
            " [-0.2237  0.8738 -0.2683]\n",
            " [-0.2526  1.1872  1.2097]\n",
            " [ 0.9025 -0.0307 -0.042 ]\n",
            " [-0.8083  0.2549  0.4402]\n",
            " [ 0.0361 -1.332   0.4494]\n",
            " [ 0.9811 -0.5977  0.0929]\n",
            " [ 0.4449 -0.788   1.1169]\n",
            " [ 1.3407  0.7492  1.7688]\n",
            " [-0.0563 -1.0948 -0.6269]\n",
            " [-1.4343  1.6293 -0.7829]\n",
            " [-0.2232 -0.7509 -0.5534]\n",
            " [ 1.4593 -0.9015  1.4671]\n",
            " [ 0.0921 -0.1303  0.6137]\n",
            " [-1.6857 -1.3466 -0.6761]\n",
            " [-0.7514 -1.562  -0.201 ]\n",
            " [-0.5551 -0.1894 -0.346 ]\n",
            " [-1.4879 -1.0803  0.9588]\n",
            " [ 0.0302 -1.2074  0.3511]\n",
            " [ 0.7638 -1.2818 -0.2631]\n",
            " [-0.4078  0.8347 -1.4524]\n",
            " [-1.8329 -0.2322  1.515 ]\n",
            " [ 1.4233  0.2299 -1.2869]\n",
            " [-0.0493 -0.8986  1.5694]\n",
            " [-0.97   -0.6784 -0.7727]\n",
            " [ 0.6811  1.6741 -0.0024]\n",
            " [-1.634   0.1968  0.1296]\n",
            " [ 1.1    -1.4184  1.2082]\n",
            " [-0.2192 -0.4838 -1.5012]\n",
            " [ 1.5617  0.5979  1.207 ]\n",
            " [ 0.2544 -0.5443  0.7637]\n",
            " [ 0.394  -1.0986  0.0171]\n",
            " [ 0.9091  0.9057 -1.4532]\n",
            " [-1.123  -1.6048  0.943 ]\n",
            " [ 1.0692  1.0805 -1.3639]\n",
            " [ 0.883  -0.491   0.5703]\n",
            " [ 1.5547  1.3075 -0.4968]\n",
            " [ 0.2903 -0.926  -0.6024]\n",
            " [-0.1008  0.1413  0.0798]\n",
            " [-1.3411  0.0251  0.0728]\n",
            " [ 1.2884 -0.9552  0.4572]\n",
            " [ 0.4597 -0.2412  0.3391]\n",
            " [ 1.2361  0.6833 -1.4257]\n",
            " [ 0.992  -1.014  -1.3707]]\n"
          ]
        }
      ],
      "source": [
        "# Step 2: Standardize the data\n",
        "mean = np.mean(data, axis=0)\n",
        "std_dev = np.std(data, axis=0)\n",
        "standardized_data = (data - mean) / std_dev\n",
        "print (mean, std_dev)\n",
        "print(standardized_data)"
      ]
    },
    {
      "cell_type": "code",
      "execution_count": 4,
      "id": "ea61f21c",
      "metadata": {
        "colab": {
          "base_uri": "https://localhost:8080/"
        },
        "id": "ea61f21c",
        "outputId": "88f51367-b362-4707-dbd7-421d72cb1c75"
      },
      "outputs": [
        {
          "output_type": "stream",
          "name": "stdout",
          "text": [
            "9 (3, 3)\n",
            "[[ 1.0101  0.0558 -0.0082]\n",
            " [ 0.0558  1.0101 -0.0162]\n",
            " [-0.0082 -0.0162  1.0101]]\n"
          ]
        }
      ],
      "source": [
        "# Step 3: Compute the covariance matrix\n",
        "covariance_matrix = np.cov(standardized_data, rowvar=False)\n",
        "size_cc = covariance_matrix.size\n",
        "shape_cc = covariance_matrix.shape\n",
        "print (size_cc, shape_cc)\n",
        "print(covariance_matrix)"
      ]
    },
    {
      "cell_type": "code",
      "execution_count": 5,
      "id": "c7506e44",
      "metadata": {
        "colab": {
          "base_uri": "https://localhost:8080/"
        },
        "id": "c7506e44",
        "outputId": "222be207-1070-4d28-97b7-c5acecf7c3df"
      },
      "outputs": [
        {
          "output_type": "stream",
          "name": "stdout",
          "text": [
            "[0.9537 1.0058 1.0708]\n",
            "[[-0.6917  0.268  -0.6706]\n",
            " [ 0.7145  0.1193 -0.6894]\n",
            " [ 0.1048  0.956   0.274 ]]\n"
          ]
        }
      ],
      "source": [
        "# Step 4: Compute the eigenvalues and eigenvectors of the covariance matrix\n",
        "eigenvalues, eigenvectors = np.linalg.eigh(covariance_matrix)\n",
        "print(eigenvalues)\n",
        "print(eigenvectors)"
      ]
    },
    {
      "cell_type": "code",
      "execution_count": 6,
      "id": "6de0189c",
      "metadata": {
        "colab": {
          "base_uri": "https://localhost:8080/"
        },
        "id": "6de0189c",
        "outputId": "56ef7557-b7c1-49cd-b991-e9ce74b00b4d"
      },
      "outputs": [
        {
          "output_type": "stream",
          "name": "stdout",
          "text": [
            "[1.0708 1.0058 0.9537]\n",
            "[[-0.6706  0.268  -0.6917]\n",
            " [-0.6894  0.1193  0.7145]\n",
            " [ 0.274   0.956   0.1048]]\n"
          ]
        }
      ],
      "source": [
        "# Step 5: Sort eigenvalues and corresponding eigenvectors in descending order\n",
        "sorted_indices = np.argsort(eigenvalues)[::-1]\n",
        "eigenvalues = eigenvalues[sorted_indices]\n",
        "eigenvectors = eigenvectors[:, sorted_indices]\n",
        "print(eigenvalues)\n",
        "print(eigenvectors)"
      ]
    },
    {
      "cell_type": "code",
      "execution_count": 7,
      "id": "4146c356",
      "metadata": {
        "id": "4146c356"
      },
      "outputs": [],
      "source": [
        "# Step 6: Choose the number of components (or a threshold for explained variance)\n",
        "n_components = 2  # Choose the number of principal components\n"
      ]
    },
    {
      "cell_type": "code",
      "execution_count": 8,
      "id": "917bca3e",
      "metadata": {
        "id": "917bca3e"
      },
      "outputs": [],
      "source": [
        "# Step 7: Select the top 'n_components' eigenvectors\n",
        "selected_eigenvectors = eigenvectors[:, :n_components]\n",
        "\n"
      ]
    },
    {
      "cell_type": "code",
      "execution_count": 9,
      "id": "6eece490",
      "metadata": {
        "id": "6eece490"
      },
      "outputs": [],
      "source": [
        "# Step 8: Project the data onto the selected eigenvectors to obtain the principal components\n",
        "final_result = np.dot(standardized_data, selected_eigenvectors)\n",
        "\n"
      ]
    },
    {
      "cell_type": "code",
      "execution_count": 10,
      "id": "22c16666",
      "metadata": {
        "colab": {
          "base_uri": "https://localhost:8080/"
        },
        "id": "22c16666",
        "outputId": "1d3d58fa-558f-4a8e-c963-31687498e6a7"
      },
      "outputs": [
        {
          "output_type": "stream",
          "name": "stdout",
          "text": [
            "Final Result after PCA:\n",
            "[[ 0.6612  0.5728]\n",
            " [ 0.4486  1.275 ]\n",
            " [-0.0397  0.3415]\n",
            " [ 1.6196 -1.9693]\n",
            " [ 0.2196 -0.4625]\n",
            " [-0.1223  1.4323]\n",
            " [-1.1847 -0.626 ]\n",
            " [-2.0931 -0.1614]\n",
            " [-0.9963 -0.5047]\n",
            " [-2.1421 -0.9671]\n",
            " [ 2.2857  0.5961]\n",
            " [-0.1536  1.0065]\n",
            " [ 0.4744 -0.8409]\n",
            " [-1.5658 -0.3725]\n",
            " [-0.5174 -1.5585]\n",
            " [ 0.111  -0.0492]\n",
            " [ 0.0376 -1.1008]\n",
            " [ 0.5856  1.1539]\n",
            " [-2.1373  1.1174]\n",
            " [-0.6852 -1.2147]\n",
            " [ 0.9881  1.103 ]\n",
            " [ 1.3203 -1.1403]\n",
            " [-0.2305  1.3107]\n",
            " [-1.2157 -1.3057]\n",
            " [-0.0371  1.2469]\n",
            " [-1.3194  1.702 ]\n",
            " [-0.609  -0.1033]\n",
            " [ 0.0878  0.7931]\n",
            " [-1.0896  1.1842]\n",
            " [ 1.0755  1.2963]\n",
            " [ 1.6297  1.1924]\n",
            " [ 1.3442 -2.1168]\n",
            " [ 0.5425 -1.4987]\n",
            " [-0.0386 -1.0106]\n",
            " [ 0.1104 -0.2804]\n",
            " [ 0.9167  0.7208]\n",
            " [-0.6585  0.1442]\n",
            " [ 0.397  -1.8151]\n",
            " [ 0.9315 -0.461 ]\n",
            " [-0.6922  1.5416]\n",
            " [-0.8026 -1.1454]\n",
            " [-0.1829  0.7446]\n",
            " [-1.2311 -1.2121]\n",
            " [ 0.609   1.1665]\n",
            " [-0.6115 -0.6261]\n",
            " [ 0.6782 -0.0397]\n",
            " [ 1.3514 -0.4459]\n",
            " [-0.9748  0.2996]\n",
            " [-1.8157  1.8829]\n",
            " [-0.2381 -0.5997]\n",
            " [ 0.1577  0.5325]\n",
            " [ 1.6032  0.1077]\n",
            " [-0.3796 -1.7432]\n",
            " [ 0.1567 -1.0086]\n",
            " [-0.2116 -0.2392]\n",
            " [-1.283   0.9393]\n",
            " [ 0.5103 -0.6403]\n",
            " [-0.5259 -0.2122]\n",
            " [-0.3175  1.2304]\n",
            " [-0.5955  0.1981]\n",
            " [ 0.4869  0.2346]\n",
            " [ 1.0172  0.2805]\n",
            " [-0.2204  0.2805]\n",
            " [ 0.551   1.093 ]\n",
            " [-0.9308  2.1396]\n",
            " [ 0.6207 -0.745 ]\n",
            " [-0.376  -0.9385]\n",
            " [ 0.5156 -0.6785]\n",
            " [ 0.0449  1.6862]\n",
            " [ 0.1962  0.5958]\n",
            " [ 1.8734 -1.2588]\n",
            " [ 1.5256 -0.5798]\n",
            " [ 0.408  -0.5021]\n",
            " [ 2.0052  0.389 ]\n",
            " [ 0.9084  0.1997]\n",
            " [ 0.2994 -0.1997]\n",
            " [-0.7    -1.3982]\n",
            " [ 1.8043  0.9294]\n",
            " [-1.4655 -0.8213]\n",
            " [ 1.0826  1.3799]\n",
            " [ 0.9064 -1.0796]\n",
            " [-1.6115  0.38  ]\n",
            " [ 0.9955 -0.2906]\n",
            " [ 0.5713  1.2807]\n",
            " [ 0.0692 -1.5516]\n",
            " [-1.1287  1.6438]\n",
            " [ 0.4139  0.7334]\n",
            " [ 0.4979 -0.0091]\n",
            " [-1.6322 -1.0376]\n",
            " [ 2.1178  0.4091]\n",
            " [-1.8356 -0.8884]\n",
            " [-0.0973  0.7233]\n",
            " [-2.08    0.0977]\n",
            " [ 0.2786 -0.6086]\n",
            " [-0.008   0.0662]\n",
            " [ 0.9019 -0.2869]\n",
            " [-0.0802  0.6684]\n",
            " [-0.049   0.4186]\n",
            " [-1.6906 -0.9502]\n",
            " [-0.3418 -1.1655]]\n"
          ]
        }
      ],
      "source": [
        "# Step 9: Print the final result\n",
        "print(\"Final Result after PCA:\")\n",
        "print(final_result)\n",
        "\n"
      ]
    },
    {
      "cell_type": "code",
      "execution_count": 11,
      "id": "e9e323cc",
      "metadata": {
        "colab": {
          "base_uri": "https://localhost:8080/",
          "height": 472
        },
        "id": "e9e323cc",
        "outputId": "5c83472f-b50f-48ef-a66f-f9d7518f79a5"
      },
      "outputs": [
        {
          "output_type": "display_data",
          "data": {
            "text/plain": [
              "<Figure size 640x480 with 1 Axes>"
            ],
            "image/png": "[encoded data removed]"
          },
          "metadata": {}
        }
      ],
      "source": [
        "# Step 10: Visualize the results (for 2D data)\n",
        "if n_components == 2:\n",
        "    plt.scatter(final_result[:, 0], final_result[:, 1])\n",
        "    plt.xlabel('Principal Component 1')\n",
        "    plt.ylabel('Principal Component 2')\n",
        "    plt.title('PCA Result')\n",
        "    plt.show()\n"
      ]
    },
    {
      "cell_type": "code",
      "execution_count": null,
      "id": "b27f7446",
      "metadata": {
        "id": "b27f7446"
      },
      "outputs": [],
      "source": []
    }
  ],
  "metadata": {
    "kernelspec": {
      "display_name": "Python 3 (ipykernel)",
      "language": "python",
      "name": "python3"
    },
    "language_info": {
      "codemirror_mode": {
        "name": "ipython",
        "version": 3
      },
      "file_extension": ".py",
      "mimetype": "text/x-python",
      "name": "python",
      "nbconvert_exporter": "python",
      "pygments_lexer": "ipython3",
      "version": "3.11.5"
    },
    "colab": {
      "provenance": []
    }
  },
  "nbformat": 4,
  "nbformat_minor": 5
}